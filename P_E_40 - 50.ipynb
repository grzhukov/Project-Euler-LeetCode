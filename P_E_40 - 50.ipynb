{
 "cells": [
  {
   "cell_type": "code",
   "execution_count": null,
   "metadata": {},
   "outputs": [],
   "source": [
    "print('f')"
   ]
  },
  {
   "cell_type": "code",
   "execution_count": null,
   "metadata": {},
   "outputs": [],
   "source": []
  },
  {
   "cell_type": "code",
   "execution_count": null,
   "metadata": {},
   "outputs": [],
   "source": []
  },
  {
   "cell_type": "code",
   "execution_count": null,
   "metadata": {},
   "outputs": [],
   "source": []
  },
  {
   "cell_type": "code",
   "execution_count": null,
   "metadata": {},
   "outputs": [],
   "source": []
  },
  {
   "cell_type": "code",
   "execution_count": null,
   "metadata": {},
   "outputs": [],
   "source": []
  },
  {
   "cell_type": "code",
   "execution_count": null,
   "metadata": {},
   "outputs": [],
   "source": []
  },
  {
   "cell_type": "code",
   "execution_count": null,
   "metadata": {},
   "outputs": [],
   "source": [
    "# 47. Distinct primes factors\n",
    "# The first two consecutive numbers to have two distinct prime factors are:\n",
    "\n",
    "# 14 = 2 × 7\n",
    "# 15 = 3 × 5\n",
    "\n",
    "# The first three consecutive numbers to have three distinct prime factors are:\n",
    "\n",
    "# 644 = 2² × 7 × 23\n",
    "# 645 = 3 × 5 × 43\n",
    "# 646 = 2 × 17 × 19.\n",
    "\n",
    "# Find the first four consecutive integers to have four distinct prime factors each. What is the first of these numbers?"
   ]
  },
  {
   "cell_type": "code",
   "execution_count": null,
   "metadata": {},
   "outputs": [],
   "source": [
    "# 48. Self powers\n",
    "# The series, 1**1 + 2**2 + 3**3 + ... + 10**10 = 10405071317.\n",
    "\n",
    "# Find the last ten digits of the series, 1**1 + 2**2 + 3**3 + ... + 1000**1000."
   ]
  },
  {
   "cell_type": "code",
   "execution_count": 30,
   "metadata": {},
   "outputs": [
    {
     "name": "stdout",
     "output_type": "stream",
     "text": [
      "9110846700\n"
     ]
    }
   ],
   "source": [
    "# в таком виде не отлич от функции, так как возвращаем yield один раз тожже самое что и return\n",
    "# если бы каждый раз внутри while то был бы генератор\n",
    "def gen_48(n):\n",
    "    sum_1 = 0\n",
    "    i = 1\n",
    "    while i <= n:\n",
    "        sum_1 += i**i\n",
    "        i += 1               # если требуется, чтобы добавлялсь в каждый раз, то в цикле, иначе только разв\n",
    "    yield sum_1               \n",
    "\n",
    "for i in gen_48(1000):\n",
    "    print(i % 10**10)"
   ]
  },
  {
   "cell_type": "code",
   "execution_count": 12,
   "metadata": {},
   "outputs": [
    {
     "data": {
      "text/plain": [
       "'45266327187'"
      ]
     },
     "execution_count": 12,
     "metadata": {},
     "output_type": "execute_result"
    }
   ],
   "source": [
    "'{:4d}'.format(45266327187)"
   ]
  },
  {
   "cell_type": "code",
   "execution_count": null,
   "metadata": {},
   "outputs": [],
   "source": [
    "# 49. Prime permutations\n",
    "# The arithmetic sequence, 1487, 4817, 8147, in which each of the terms increases by 3330, \n",
    "# is unusual in two ways: (i) each of the three terms are prime, and, \n",
    "# (ii) each of the 4-digit numbers are permutations of one another.\n",
    "\n",
    "# There are no arithmetic sequences made up of three 1-, 2-, or 3-digit primes, exhibiting this property,\n",
    "# but there is one other 4-digit increasing sequence.\n",
    "\n",
    "# What 12-digit number do you form by concatenating the three terms in this sequence?"
   ]
  },
  {
   "cell_type": "code",
   "execution_count": null,
   "metadata": {},
   "outputs": [],
   "source": [
    "# 50. Consecutive prime sum\n",
    "# The prime 41, can be written as the sum of six consecutive primes: 41 = 2 + 3 + 5 + 7 + 11 + 13.\n",
    "\n",
    "# This is the longest sum of consecutive primes that adds to a prime below one-hundred.\n",
    "\n",
    "# The longest sum of consecutive primes below one-thousand that adds to a prime, contains 21 terms, and is equal to 953.\n",
    "\n",
    "# Which prime, below one-million, can be written as the sum of the most consecutive primes?"
   ]
  }
 ],
 "metadata": {
  "kernelspec": {
   "display_name": "Python 3",
   "language": "python",
   "name": "python3"
  },
  "language_info": {
   "codemirror_mode": {
    "name": "ipython",
    "version": 3
   },
   "file_extension": ".py",
   "mimetype": "text/x-python",
   "name": "python",
   "nbconvert_exporter": "python",
   "pygments_lexer": "ipython3",
   "version": "3.8.6"
  }
 },
 "nbformat": 4,
 "nbformat_minor": 4
}
