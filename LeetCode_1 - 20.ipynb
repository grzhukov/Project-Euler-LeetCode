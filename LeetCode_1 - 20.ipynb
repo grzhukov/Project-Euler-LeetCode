{
 "cells": [
  {
   "cell_type": "code",
   "execution_count": 2,
   "metadata": {},
   "outputs": [
    {
     "name": "stdout",
     "output_type": "stream",
     "text": [
      "[0, 2, 2, 0]\n"
     ]
    }
   ],
   "source": [
    "nums = [-3, 4, 3, 90]\n",
    "target = 0\n",
    "A = []\n",
    "num_1 = nums[0]\n",
    "for i in range(len(nums)):  \n",
    "    for j in range(len(nums)):\n",
    "        if i != j and nums[i] + nums[j] == target:\n",
    "            A.append(i)       \n",
    "            A.append(j)\n",
    "            #print(i, j)\n",
    "            break\n",
    "print(A)\n",
    "           \n",
    "# сложность сортировки nlogn < n^2, сначала можно отсортировать"
   ]
  },
  {
   "cell_type": "code",
   "execution_count": 7,
   "metadata": {},
   "outputs": [
    {
     "name": "stdout",
     "output_type": "stream",
     "text": [
      "[0, 1]\n"
     ]
    }
   ],
   "source": [
    "nums = [2,7,11,15]\n",
    "\n",
    "target = 9\n",
    "A = []\n",
    "num_1 = nums[0]\n",
    "for i in range(len(nums)):  \n",
    "    found = False\n",
    "    for j in range(len(nums)):\n",
    "        if i != j and nums[i] + nums[j] == target:\n",
    "            A.append(i)       \n",
    "            A.append(j)\n",
    "            #print(i, j)\n",
    "            found = True\n",
    "            break\n",
    "    if found: # или if A # когда нужно выйти из двух циклов сразу\n",
    "        break\n",
    "print(A)\n",
    "           \n",
    "  "
   ]
  },
  {
   "cell_type": "code",
   "execution_count": null,
   "metadata": {},
   "outputs": [],
   "source": [
    "nums = [-3, 4, 3, 90]\n",
    "\n",
    "target = 0\n",
    "A = []\n",
    "num_1 = nums[0]\n",
    "for i in range(len(nums)):  \n",
    "    for j in range(len(nums)):\n",
    "        if i < j and nums[i] + nums[j] == target:\n",
    "            A.append(i)       \n",
    "            A.append(j)\n",
    "            #print(i, j)\n",
    "            break\n",
    "    else:\n",
    "        # не вышли по break, значит решение не нашли\n",
    "        continue\n",
    "    break\n",
    "print(A)\n",
    "           \n",
    "# различные i < j"
   ]
  },
  {
   "cell_type": "code",
   "execution_count": null,
   "metadata": {},
   "outputs": [],
   "source": [
    "# 485. Max Consecutive Ones\n",
    "# Given a binary array, find the maximum number of consecutive 1s in this array.\n",
    "# Input: [1,1,0,1,1,1]\n",
    "# Output: 3"
   ]
  },
  {
   "cell_type": "code",
   "execution_count": 6,
   "metadata": {},
   "outputs": [
    {
     "name": "stdout",
     "output_type": "stream",
     "text": [
      "6\n"
     ]
    }
   ],
   "source": [
    "nums = [0, 1, 1, 1, 1, 1, 0, 0, 1, 1, 0, 1, 1, 1, 1, 0, 0, 1, 1, 1, 1, 1, 1]\n",
    "num_1 = 1\n",
    "counter = 0\n",
    "max_1 = 0\n",
    "for i in range(len(nums)):\n",
    "    if nums[i] - num_1 == 0: # if nums[i] == 1\n",
    "        counter += 1\n",
    "        if counter > max_1: # max_1 = max(max_1, counter)\n",
    "            max_1 = counter\n",
    "    else:\n",
    "        counter = 0\n",
    "print(max_1)  "
   ]
  },
  {
   "cell_type": "code",
   "execution_count": 40,
   "metadata": {},
   "outputs": [
    {
     "name": "stdin",
     "output_type": "stream",
     "text": [
      " 1 0 1 1 0 1 1 1 1 0 0 \n"
     ]
    },
    {
     "name": "stdout",
     "output_type": "stream",
     "text": [
      "4\n"
     ]
    }
   ],
   "source": [
    "a_1 = input()\n",
    "nums = list(map(int, a_1.split()))\n",
    "num_1 = 1\n",
    "counter = 0\n",
    "max_1 = 0\n",
    "for i in range(len(nums)):\n",
    "    if nums[i] - num_1 == 0:\n",
    "        counter += 1\n",
    "        if counter > max_1:\n",
    "            max_1 = counter\n",
    "    else:\n",
    "        counter = 0\n",
    "print(max_1) "
   ]
  },
  {
   "cell_type": "code",
   "execution_count": null,
   "metadata": {},
   "outputs": [],
   "source": [
    "# 2. Add Two Numbers \n",
    "# You are given two non-empty linked lists representing two non-negative integers. \n",
    "# The digits are stored in reverse order, and each of their nodes contains a single digit. \n",
    "# Add the two numbers and return the sum as a linked list.\n",
    "\n",
    "# You may assume the two numbers do not contain any leading zero, except the number 0 itself.\n",
    "# Input: l1 = [2,4,3], l2 = [5,6,4]\n",
    "# Output: [7,0,8]\n",
    "# Explanation: 342 + 465 = 807."
   ]
  },
  {
   "cell_type": "code",
   "execution_count": 15,
   "metadata": {},
   "outputs": [
    {
     "name": "stdout",
     "output_type": "stream",
     "text": [
      "[1, 1, 2, 1]\n"
     ]
    }
   ],
   "source": [
    "l1 = [6,4,7]\n",
    "l2 = [5,6,4]\n",
    "sum_1 = 0\n",
    "sum_2 = 0\n",
    "for i in range(len(l1)): # 1) напрашивается функция\n",
    "    sum_1 += l1[i]*10**i\n",
    "for i in range(len(l2)):\n",
    "    sum_2 += l2[i]*10**i\n",
    "n_1 = str(sum_1 + sum_2)\n",
    "A = []\n",
    "B = list(map(int, n_1[::-1])) # можно сразу в обратном и использовать map вместо цикла\n",
    "# for i in range(len(n_1)):\n",
    "#     A.append(int(n_1[i:i+1]))\n",
    "\n",
    "print(B)\n"
   ]
  },
  {
   "cell_type": "code",
   "execution_count": null,
   "metadata": {},
   "outputs": [],
   "source": [
    "# 2б. решить #2 только не получая конкретных чисел в sum_1, sum_2, без дополнительных переменных, только с выходным списком\n",
    "# A = []\n",
    "\n",
    "# никогда не видишь число целиком\n",
    "\n",
    "\n",
    "# 2в. написать генератор, который принимает на вход 2 генератора -- число 1 и число 2, на выход передаёт элементы суммы\n",
    "def gen_sum(x, y):\n",
    "    pass\n",
    "\n",
    "print(list(gen_sum(range(1, 3), range(2, 4)))) # 21 + 32 -> [3, 5]"
   ]
  },
  {
   "cell_type": "code",
   "execution_count": null,
   "metadata": {},
   "outputs": [],
   "source": [
    "def gen_sum(x, y):\n",
    "    # len(x) -- нельзя\n",
    "    # x[i] -- нельзя\n",
    "    # можно -- 1) next(x), next(y) - лучше не надо, самый низкоуровневый вариант\n",
    "    # 2) использовать любую функцию которая может принимать генератор\n",
    "    # 3) можно итерироваться по x,y по отдельности\n",
    "    # внутри генераторного выр не может стоять yield "
   ]
  },
  {
   "cell_type": "code",
   "execution_count": 10,
   "metadata": {},
   "outputs": [
    {
     "data": {
      "text/plain": [
       "1211"
      ]
     },
     "execution_count": 10,
     "metadata": {},
     "output_type": "execute_result"
    }
   ],
   "source": [
    "746+465"
   ]
  },
  {
   "cell_type": "code",
   "execution_count": 31,
   "metadata": {},
   "outputs": [
    {
     "name": "stdout",
     "output_type": "stream",
     "text": [
      "1 1 2 1\n",
      "4 6\n",
      "1 1 2 1 0 2\n",
      "0 0 0 0 1 2\n"
     ]
    }
   ],
   "source": [
    "def gen_sum(x, y):\n",
    "    a = 0\n",
    "    for i, j in zip(x, y):\n",
    "        if i + j + a >= 10:\n",
    "            yield (i+j+ a) % 10 \n",
    "            a = 1\n",
    "        else:\n",
    "            yield (i+j + a) % 10\n",
    "            a = 0\n",
    "    if a == 1:\n",
    "        yield 1\n",
    "\n",
    "print(*gen_sum([6, 4, 7], [5, 6, 4]))\n",
    "print(*gen_sum(iter([1,2]), iter([3,4]))) # y кончился\n",
    "print(*gen_sum([6, 4, 7, 0, 0, 1], [5, 6, 4, 0, 0, 1]))\n",
    "print(*gen_sum([5, 4, 4, 4, 0, 1], [5, 5, 5, 5, 0, 1]))\n"
   ]
  },
  {
   "cell_type": "code",
   "execution_count": 33,
   "metadata": {},
   "outputs": [
    {
     "name": "stdout",
     "output_type": "stream",
     "text": [
      "1 1 2 1\n",
      "4 6\n",
      "1 1 2 1 0 2\n",
      "0 0 0 0 1 2\n"
     ]
    }
   ],
   "source": [
    "def gen_sum(x, y):\n",
    "    a = 0\n",
    "    for i, j in zip(x, y):\n",
    "        yield (i+j+ a) % 10 # вынесем за скобки\n",
    "        if i + j + a >= 10:   \n",
    "            a = 1\n",
    "        else: \n",
    "            a = 0\n",
    "    if a == 1:\n",
    "        yield 1\n",
    "\n",
    "print(*gen_sum([6, 4, 7], [5, 6, 4]))\n",
    "print(*gen_sum(iter([1,2]), iter([3,4]))) # y кончился\n",
    "print(*gen_sum([6, 4, 7, 0, 0, 1], [5, 6, 4, 0, 0, 1]))\n",
    "print(*gen_sum([5, 4, 4, 4, 0, 1], [5, 5, 5, 5, 0, 1]))\n"
   ]
  },
  {
   "cell_type": "code",
   "execution_count": null,
   "metadata": {},
   "outputs": [],
   "source": [
    "z = iter([1, 2])\n",
    "\n",
    "for i in z:\n",
    "    print(i)\n",
    "for i in z:\n",
    "    print(i)"
   ]
  },
  {
   "cell_type": "code",
   "execution_count": 17,
   "metadata": {},
   "outputs": [
    {
     "data": {
      "text/plain": [
       "8"
      ]
     },
     "execution_count": 17,
     "metadata": {},
     "output_type": "execute_result"
    }
   ],
   "source": [
    "8 % 10"
   ]
  },
  {
   "cell_type": "code",
   "execution_count": null,
   "metadata": {},
   "outputs": [],
   "source": [
    "# 3. Longest Substring Without Repeating Characters\n",
    "# Given a string s, find the length of the longest substring without repeating characters.\n",
    "\n",
    "# Example 3:\n",
    "\n",
    "# Input: s = \"pwwkew\"\n",
    "# Output: 3\n",
    "# Explanation: The answer is \"wke\", with the length of 3.\n",
    "# Notice that the answer must be a substring, \"pwke\" is a subsequence and not a substring."
   ]
  },
  {
   "cell_type": "code",
   "execution_count": 75,
   "metadata": {},
   "outputs": [
    {
     "name": "stdout",
     "output_type": "stream",
     "text": [
      "['p', 'w', 'w', 'k', 'e', 'w']\n"
     ]
    }
   ],
   "source": [
    "s = 'pwwkew'\n",
    "l = list(s)\n",
    "for i in range(len(l)+1):\n",
    "    if l[i] == l\n",
    "print(l)"
   ]
  },
  {
   "cell_type": "code",
   "execution_count": null,
   "metadata": {},
   "outputs": [],
   "source": [
    "# 66. Plus One\n",
    "# Given a non-empty array of decimal digits representing a non-negative integer, increment one to the integer.\n",
    "\n",
    "# The digits are stored such that the most significant digit is at the head of the list, \n",
    "\n",
    "# and each element in the array contains a single digit.\n",
    "\n",
    "# You may assume the integer does not contain any leading zero, except the number 0 itself.\n",
    "# Example 1:\n",
    "\n",
    "# Input: digits = [1,2,3]\n",
    "# Output: [1,2,4]\n",
    "# Explanation: The array represents the integer 123.\n",
    "# Example 2:\n",
    "\n",
    "# Input: digits = [4,3,2,1]\n",
    "# Output: [4,3,2,2]\n",
    "# Explanation: The array represents the integer 4321.\n",
    "# Example 3:\n",
    "\n",
    "# Input: digits = [0]\n",
    "# Output: [1]"
   ]
  },
  {
   "cell_type": "code",
   "execution_count": 79,
   "metadata": {},
   "outputs": [
    {
     "name": "stdout",
     "output_type": "stream",
     "text": [
      "[3, 0, 0]\n"
     ]
    }
   ],
   "source": [
    "def gen_sum(digits):\n",
    "    a = 1\n",
    "    digits.reverse()\n",
    "    for i in digits:\n",
    "        yield (i+a) % 10\n",
    "        a = (i+a) // 10\n",
    "    if a >= 1:\n",
    "        yield a\n",
    "\n",
    "A = []\n",
    "for i in gen_sum([2, 9, 9]):\n",
    "    A.append(i)\n",
    "A.reverse()\n",
    "print(A)"
   ]
  },
  {
   "cell_type": "code",
   "execution_count": 2,
   "metadata": {},
   "outputs": [
    {
     "name": "stdout",
     "output_type": "stream",
     "text": [
      "<generator object gen_123 at 0x0000010DD705E900>\n",
      "1\n",
      "2\n",
      "3\n"
     ]
    }
   ],
   "source": [
    "# Пример 1.\n",
    "def gen_123():\n",
    "    yield 1\n",
    "    yield 2\n",
    "    yield 3\n",
    "\n",
    "print(gen_123())\n",
    "\n",
    "for x in gen_123():\n",
    "    print(x)"
   ]
  },
  {
   "cell_type": "code",
   "execution_count": 4,
   "metadata": {},
   "outputs": [
    {
     "name": "stdout",
     "output_type": "stream",
     "text": [
      "<generator object gen_element_plus_one at 0x0000010DD79E8D60>\n",
      "1\n",
      "2\n",
      "3\n",
      "4\n",
      "5\n",
      "6\n",
      "7\n",
      "8\n",
      "9\n",
      "10\n",
      "1 2 3 4 5 6 7 8 9 10\n"
     ]
    }
   ],
   "source": [
    "# Пример 2.\n",
    "def gen_element_plus_one(x):\n",
    "    for i in x:\n",
    "        yield i+1   # всегда в отдельной строчке\n",
    "\n",
    "print(gen_element_plus_one(range(10)))\n",
    "for x in gen_element_plus_one(range(10)):\n",
    "    print(x)\n",
    "print(*gen_element_plus_one(range(10)))\n"
   ]
  },
  {
   "cell_type": "code",
   "execution_count": 5,
   "metadata": {},
   "outputs": [
    {
     "name": "stdout",
     "output_type": "stream",
     "text": [
      "2 3 4\n"
     ]
    }
   ],
   "source": [
    "# передача результата работы одной функции в другую функцию в качестве аргумента \n",
    "print(*gen_element_plus_one(gen_123()))"
   ]
  },
  {
   "cell_type": "code",
   "execution_count": 9,
   "metadata": {},
   "outputs": [
    {
     "name": "stdout",
     "output_type": "stream",
     "text": [
      "3 4 5\n"
     ]
    }
   ],
   "source": [
    "print(*gen_element_plus_one(gen_element_plus_one(gen_123())))"
   ]
  },
  {
   "cell_type": "code",
   "execution_count": 10,
   "metadata": {},
   "outputs": [
    {
     "name": "stdout",
     "output_type": "stream",
     "text": [
      "12 13 14 15 16\n"
     ]
    }
   ],
   "source": [
    "print(*gen_element_plus_one(gen_element_plus_one(range(10, 15))))"
   ]
  },
  {
   "cell_type": "code",
   "execution_count": 12,
   "metadata": {},
   "outputs": [],
   "source": [
    "def gen_smth_1():\n",
    "    return ( x for x in range(5) )\n",
    "\n",
    "def gen_smth_2():\n",
    "    yield from range(5)\n",
    "    yield 1\n",
    "\n",
    "def gen_smth_3():\n",
    "    for y in ( x for x in range(5) ):\n",
    "        yield y\n",
    "    yield 1"
   ]
  },
  {
   "cell_type": "code",
   "execution_count": 13,
   "metadata": {},
   "outputs": [
    {
     "name": "stdout",
     "output_type": "stream",
     "text": [
      "0 1 2 3 4 1\n"
     ]
    }
   ],
   "source": [
    "print(*gen_smth_2())"
   ]
  },
  {
   "cell_type": "code",
   "execution_count": 14,
   "metadata": {},
   "outputs": [
    {
     "name": "stdout",
     "output_type": "stream",
     "text": [
      "0 1 2 3 4 1\n"
     ]
    }
   ],
   "source": [
    "print(*gen_smth_3())"
   ]
  },
  {
   "cell_type": "code",
   "execution_count": 16,
   "metadata": {},
   "outputs": [
    {
     "name": "stdout",
     "output_type": "stream",
     "text": [
      "0 1 2 3 4\n"
     ]
    }
   ],
   "source": [
    "print(*gen_smth_1())"
   ]
  },
  {
   "cell_type": "code",
   "execution_count": 17,
   "metadata": {},
   "outputs": [],
   "source": [
    "# Написать генератор который компактным способом вернёт последовательность:\n",
    "# 1 2 3 4 5 4 3 2 1 2 3 4 5"
   ]
  },
  {
   "cell_type": "code",
   "execution_count": 18,
   "metadata": {},
   "outputs": [],
   "source": [
    "def gen_long():\n",
    "    yield 1\n",
    "    yield 2\n",
    "    yield 3\n",
    "    yield 4\n",
    "    yield 5\n",
    "    yield 4\n",
    "    yield 3\n",
    "    yield 2\n",
    "    yield 1\n",
    "    yield 2\n",
    "    yield 3\n",
    "    yield 4\n",
    "    yield 5\n"
   ]
  },
  {
   "cell_type": "code",
   "execution_count": 33,
   "metadata": {},
   "outputs": [
    {
     "name": "stdout",
     "output_type": "stream",
     "text": [
      "1 2 3 4 5 4 3 2 1 2 3 4 5\n"
     ]
    }
   ],
   "source": [
    "def gen_1():\n",
    "    for i in range(3):\n",
    "        if i == 0:\n",
    "            yield from (x for x in range(1, 6))\n",
    "        elif i == 1:\n",
    "            yield from (x for x in range(4, 1, -1))\n",
    "        else:\n",
    "            yield from (x for x in range(1, 6))\n",
    "\n",
    "print(*gen_1())"
   ]
  },
  {
   "cell_type": "code",
   "execution_count": 34,
   "metadata": {},
   "outputs": [
    {
     "name": "stdout",
     "output_type": "stream",
     "text": [
      "1 2 3 4 5 4 3 2 1 2 3 4 5\n"
     ]
    }
   ],
   "source": [
    "def gen_1():\n",
    "            yield from (x for x in range(1, 6))\n",
    "            yield from (x for x in range(4, 1, -1))\n",
    "            yield from (x for x in range(1, 6))\n",
    "\n",
    "print(*gen_1())"
   ]
  },
  {
   "cell_type": "code",
   "execution_count": 35,
   "metadata": {},
   "outputs": [
    {
     "name": "stdout",
     "output_type": "stream",
     "text": [
      "1 2 3 4 5 4 3 2 1 2 3 4 5\n"
     ]
    }
   ],
   "source": [
    "def gen_1():\n",
    "    \n",
    "    for i in range(1, 6):\n",
    "        yield i\n",
    "    for i in range(4, 1, -1):\n",
    "        yield i\n",
    "    for i in range(1, 6):\n",
    "        yield i\n",
    "\n",
    "print(*gen_1())"
   ]
  },
  {
   "cell_type": "code",
   "execution_count": 36,
   "metadata": {},
   "outputs": [],
   "source": [
    "# 1 2 3 4 5 4 3 2 1 2 3 4 5 4 3 2 1 2 3 4 5 4 3 2 1 2 3 4 5 ..."
   ]
  },
  {
   "cell_type": "code",
   "execution_count": 43,
   "metadata": {},
   "outputs": [],
   "source": [
    "def gen_1():\n",
    "    yield from (x for x in range(1, 6))\n",
    "    while True:\n",
    "        yield from (x for x in range(4, 1, -1))\n",
    "        yield from (x for x in range(1, 6))\n",
    "        \n"
   ]
  },
  {
   "cell_type": "code",
   "execution_count": 44,
   "metadata": {},
   "outputs": [
    {
     "name": "stdout",
     "output_type": "stream",
     "text": [
      "1\n",
      "2\n",
      "3\n",
      "4\n",
      "5\n",
      "4\n",
      "3\n",
      "2\n",
      "1\n",
      "2\n",
      "3\n",
      "4\n",
      "5\n",
      "4\n",
      "3\n",
      "2\n",
      "1\n",
      "2\n",
      "3\n",
      "4\n",
      "5\n"
     ]
    }
   ],
   "source": [
    "for i, x in enumerate(gen_1()):\n",
    "    print(x)\n",
    "    if i == 20:\n",
    "        break"
   ]
  },
  {
   "cell_type": "code",
   "execution_count": 55,
   "metadata": {},
   "outputs": [
    {
     "name": "stdout",
     "output_type": "stream",
     "text": [
      "\n",
      "0 2 2 2\n",
      "0 6 5 3\n",
      "0 10 2 4\n"
     ]
    }
   ],
   "source": [
    "# сравнить\n",
    "def gen_plus_1(x):\n",
    "    seen = False\n",
    "    a = 0\n",
    "    for i in x:\n",
    "        if not seen:\n",
    "            if i+1 == 10:\n",
    "                a += 1\n",
    "                yield 0\n",
    "                seen = True\n",
    "        else:\n",
    "        # если я хочу проверить были мы здесь раньше или нет\n",
    "            yield i + a\n",
    "\n",
    "def gen_plus_2(x):\n",
    "    counter = 0\n",
    "    for i in x:\n",
    "        if counter == 0:\n",
    "            yield i+1\n",
    "        else:\n",
    "        # если я хочу проверить были мы здесь раньше или нет\n",
    "            yield i\n",
    "        counter += 1\n",
    "\n",
    "def gen_plus_3(x):\n",
    "    for counter, i in enumerate(x):\n",
    "        if counter == 0:\n",
    "            yield i+1\n",
    "        else:\n",
    "        # если я хочу проверить были мы здесь раньше или нет\n",
    "            yield i\n",
    "\n",
    "\n",
    "def gen_plus_1_another(x):\n",
    "    it = iter(x)\n",
    "    first = next(it)\n",
    "    yield first + 1\n",
    "    for i in it:\n",
    "        yield i\n",
    "\n",
    "print(*gen_plus_1(range(1, 5))) # 4321 -> 4 3 2 2\n",
    "print(*gen_plus_1([9, 1, 1, 1])) # 1119 -> 1 1 2 0\n",
    "print(*gen_plus_1([9, 5, 4, 2])) # 2459 -> 2 4 6 0\n",
    "print(*gen_plus_1([9, 9, 1, 3])) # 3199 -> 3 2 0 0\n",
    "\n"
   ]
  },
  {
   "cell_type": "code",
   "execution_count": 52,
   "metadata": {},
   "outputs": [
    {
     "name": "stdout",
     "output_type": "stream",
     "text": [
      "Я тут уже был -- i=0\n",
      "1\n",
      "Я тут уже был -- i=1\n",
      "2\n",
      "Я тут уже был -- i=2\n",
      "3\n",
      "Я тут уже был -- i=3\n",
      "4\n",
      "Я тут уже был -- i=4\n",
      "5\n",
      "Я тут уже был -- i=5\n",
      "6\n",
      "Я тут уже был -- i=6\n",
      "7\n",
      "Я тут уже был -- i=7\n",
      "8\n",
      "Я тут уже был -- i=8\n",
      "9\n",
      "Я тут уже был -- i=9\n",
      "10\n"
     ]
    }
   ],
   "source": [
    "seen = False\n",
    "for i in range(10):\n",
    "    seen = True\n",
    "    if seen:\n",
    "        print(f'Я тут уже был -- i={i}')\n",
    "        \n",
    "        print(i+1)"
   ]
  },
  {
   "cell_type": "code",
   "execution_count": 5,
   "metadata": {},
   "outputs": [
    {
     "name": "stdout",
     "output_type": "stream",
     "text": [
      "4\n",
      "[1, 0]\n",
      "2 2 3 4\n",
      "0 2 1 1\n",
      "0 6 4 2\n",
      "0 0 2 3\n",
      "0 0 2 3\n",
      "0 0 1 8 0 1\n"
     ]
    }
   ],
   "source": [
    "def gen_plus_1(x):\n",
    "    a = 0\n",
    "    seen = False\n",
    "    seen_1 = False  \n",
    "    for i in x:\n",
    "        \n",
    "        if i == 9: \n",
    "            yield 0\n",
    "            a = 1\n",
    "            seen_1 = True\n",
    "        else:\n",
    "            if not seen:\n",
    "                yield i+1\n",
    "                seen = True\n",
    "            else:\n",
    "                yield i\n",
    "    if seen_1 and not seen:\n",
    "        yield 1\n",
    "    \n",
    "    \n",
    "            \n",
    "print(*gen_plus_1([3]))\n",
    "A = []\n",
    "for i in gen_plus_1([9]):\n",
    "    A.append(i)\n",
    "A.reverse()\n",
    "print(A) # reversed(A)\n",
    "print(*gen_plus_1(range(1, 5))) # 4321 -> 4 3 2 2\n",
    "print(*gen_plus_1([9, 1, 1, 1])) # 1119 -> 1 1 2 0\n",
    "print(*gen_plus_1([9, 5, 4, 2])) # 2459 -> 2 4 6 0\n",
    "print(*gen_plus_1([9, 9, 1, 3])) # 3199 -> 3 2 0 0\n",
    "print(*gen_plus_1([9, 9, 1, 3])) # 3199 -> 3 2 0 0\n",
    "print(*gen_plus_1([9, 9, 0, 8, 9, 1]))\n"
   ]
  },
  {
   "cell_type": "code",
   "execution_count": null,
   "metadata": {},
   "outputs": [],
   "source": [
    "# 53. Maximum Subarray\n",
    "# Given an integer array nums, find the contiguous subarray (containing at least one number) \n",
    "# which has the largest sum and return its sum.\n",
    "\n",
    "# Follow up: If you have figured out the O(n) solution, \n",
    "# try coding another solution using the divide and conquer approach, which is more subtle.\n",
    "\n",
    "# Input: nums = [-2,1,-3,4,-1,2,1,-5,4]\n",
    "# Output: 6\n",
    "# Explanation: [4,-1,2,1] has the largest sum = 6."
   ]
  },
  {
   "cell_type": "code",
   "execution_count": 1,
   "metadata": {},
   "outputs": [
    {
     "name": "stdout",
     "output_type": "stream",
     "text": [
      "[0]\n",
      "[0, 1]\n",
      "[0, 1, 0]\n",
      "[0, 1, 0, 4]\n",
      "[0, 1, 0, 4, 3]\n",
      "[0, 1, 0, 4, 3, 5]\n",
      "[0, 1, 0, 4, 3, 5, 6]\n",
      "[0, 1, 0, 4, 3, 5, 6, 1]\n",
      "[0, 1, 0, 4, 3, 5, 6, 1, 5]\n",
      "6\n"
     ]
    }
   ],
   "source": [
    "nums = [-2,1,-3,4,-1,2,1,-5,4]\n",
    "# nums = [-1]\n",
    "A = []\n",
    "sum_c = 0\n",
    "if max(nums) <= 0:\n",
    "    print(max(nums))\n",
    "else:\n",
    "    for i in range(len(nums)):\n",
    "        if nums[i] >= 0:\n",
    "            sum_c += nums[i]\n",
    "\n",
    "        else:\n",
    "            if sum_c + nums[i] > 0:\n",
    "                sum_c += nums[i]\n",
    "            else:\n",
    "                sum_c = 0\n",
    "        A.append(sum_c)\n",
    "        print(A)\n",
    "    print(max(A))"
   ]
  },
  {
   "cell_type": "code",
   "execution_count": 2,
   "metadata": {},
   "outputs": [
    {
     "name": "stdout",
     "output_type": "stream",
     "text": [
      "2 6 5 2\n"
     ]
    }
   ],
   "source": [
    "# [1, 2, 9] + [4, 5, 6] + [7, 8, 9]\n",
    "def gen_sum(x, y, z):\n",
    "    a = 0 \n",
    "    for i, j, k in zip(x, y, z):\n",
    "        yield (i + j + k + a) % 10\n",
    "        a = (i + j + k + a) // 10 # приоритет операций\n",
    "    if a >= 1:\n",
    "        yield a\n",
    "print(*gen_sum([1, 2, 9],[4, 5, 6], [7, 8, 9] ))\n",
    "        "
   ]
  },
  {
   "cell_type": "code",
   "execution_count": 36,
   "metadata": {},
   "outputs": [
    {
     "data": {
      "text/plain": [
       "2562"
      ]
     },
     "execution_count": 36,
     "metadata": {},
     "output_type": "execute_result"
    }
   ],
   "source": [
    "921+654+987"
   ]
  },
  {
   "cell_type": "code",
   "execution_count": 41,
   "metadata": {},
   "outputs": [
    {
     "name": "stdout",
     "output_type": "stream",
     "text": [
      "[(1, 1)]\n",
      "[(1, 1), (2, None)]\n"
     ]
    }
   ],
   "source": [
    "# 1) С помощью переменного количества позиционных аргументов реализовать сложение до 10 чисел.\n",
    "# 1 б) Реализовать сложение произвольного количества чисел.\n",
    "# 2) gen_sum (входные посл одинакового размера, надо написать, чтобы работала с последовательностями разного размера)\n",
    "print(list(zip([1, 2], [1])))\n",
    "import itertools\n",
    "print(list(itertools.zip_longest([1, 2], [1])))\n",
    "# 3) плюс один"
   ]
  },
  {
   "cell_type": "code",
   "execution_count": 1,
   "metadata": {},
   "outputs": [
    {
     "name": "stdout",
     "output_type": "stream",
     "text": [
      "0 6 6 6\n"
     ]
    }
   ],
   "source": [
    "# 1 б) Реализовать сложение произвольного количества чисел.\n",
    "def gen_sum(*iterables):\n",
    "    s = 0\n",
    "    a = 0\n",
    "    for i in zip(*iterables):      \n",
    "        s = (sum(i) + a) % 10\n",
    "        a = sum(i) // 10\n",
    "        yield s\n",
    "    if a >= 1:\n",
    "        yield a  \n",
    "print(*gen_sum([9, 9, 9],[1, 1, 1],[9, 9, 9],[1, 1, 1],[9, 9, 9],[1, 1, 1],[9, 9, 9],[1, 1, 1],[9, 9, 9],[1, 1, 1],[9, 9, 9],[1, 1, 1]))"
   ]
  },
  {
   "cell_type": "code",
   "execution_count": 6,
   "metadata": {},
   "outputs": [
    {
     "ename": "UnboundLocalError",
     "evalue": "local variable 'b' referenced before assignment",
     "output_type": "error",
     "traceback": [
      "\u001b[1;31m---------------------------------------------------------------------------\u001b[0m",
      "\u001b[1;31mUnboundLocalError\u001b[0m                         Traceback (most recent call last)",
      "\u001b[1;32m<ipython-input-6-7f721df535b2>\u001b[0m in \u001b[0;36m<module>\u001b[1;34m\u001b[0m\n\u001b[0;32m     14\u001b[0m             \u001b[0mi\u001b[0m \u001b[1;33m+=\u001b[0m \u001b[1;36m1\u001b[0m\u001b[1;33m\u001b[0m\u001b[1;33m\u001b[0m\u001b[0m\n\u001b[0;32m     15\u001b[0m \u001b[1;33m\u001b[0m\u001b[0m\n\u001b[1;32m---> 16\u001b[1;33m \u001b[0mprint\u001b[0m\u001b[1;33m(\u001b[0m\u001b[1;33m*\u001b[0m\u001b[0mgen_sum\u001b[0m\u001b[1;33m(\u001b[0m\u001b[1;33m*\u001b[0m\u001b[1;33m[\u001b[0m\u001b[1;33m[\u001b[0m\u001b[1;36m9\u001b[0m\u001b[1;33m]\u001b[0m\u001b[1;33m]\u001b[0m\u001b[1;33m*\u001b[0m\u001b[1;36m20\u001b[0m\u001b[1;33m)\u001b[0m\u001b[1;33m)\u001b[0m \u001b[1;31m# [[9]]*2 == [[9],[9]] 12345\u001b[0m\u001b[1;33m\u001b[0m\u001b[1;33m\u001b[0m\u001b[0m\n\u001b[0m",
      "\u001b[1;32m<ipython-input-6-7f721df535b2>\u001b[0m in \u001b[0;36mgen_sum\u001b[1;34m(*iterables)\u001b[0m\n\u001b[0;32m      9\u001b[0m     \u001b[0mi\u001b[0m \u001b[1;33m=\u001b[0m \u001b[1;36m0\u001b[0m\u001b[1;33m\u001b[0m\u001b[1;33m\u001b[0m\u001b[0m\n\u001b[0;32m     10\u001b[0m     \u001b[1;32mif\u001b[0m \u001b[0ma\u001b[0m \u001b[1;33m>=\u001b[0m \u001b[1;36m1\u001b[0m\u001b[1;33m:\u001b[0m\u001b[1;33m\u001b[0m\u001b[1;33m\u001b[0m\u001b[0m\n\u001b[1;32m---> 11\u001b[1;33m         \u001b[1;32mwhile\u001b[0m \u001b[0mb\u001b[0m \u001b[1;33m!=\u001b[0m \u001b[1;36m0\u001b[0m\u001b[1;33m:\u001b[0m\u001b[1;33m\u001b[0m\u001b[1;33m\u001b[0m\u001b[0m\n\u001b[0m\u001b[0;32m     12\u001b[0m             \u001b[0mb\u001b[0m \u001b[1;33m=\u001b[0m \u001b[0ma\u001b[0m \u001b[1;33m%\u001b[0m \u001b[1;36m10\u001b[0m\u001b[1;33m**\u001b[0m\u001b[0mi\u001b[0m\u001b[1;33m\u001b[0m\u001b[1;33m\u001b[0m\u001b[0m\n\u001b[0;32m     13\u001b[0m             \u001b[1;32myield\u001b[0m \u001b[0mb\u001b[0m\u001b[1;33m\u001b[0m\u001b[1;33m\u001b[0m\u001b[0m\n",
      "\u001b[1;31mUnboundLocalError\u001b[0m: local variable 'b' referenced before assignment"
     ]
    }
   ],
   "source": [
    "# 1 б) Реализовать сложение произвольного количества чисел.\n",
    "def gen_sum(*iterables):\n",
    "    s = 0\n",
    "    a = 0\n",
    "    for i in zip(*iterables):      \n",
    "        s = (sum(i) + a) % 10\n",
    "        a = sum(i) // 10\n",
    "        yield s\n",
    "    i = 0\n",
    "    if a >= 1:\n",
    "        while True:\n",
    "            b = a % 10**i\n",
    "            yield b\n",
    "            i += 1\n",
    "            \n",
    "print(*gen_sum(*[[9]]*20)) # [[9]]*2 == [[9],[9]] 12345"
   ]
  },
  {
   "cell_type": "code",
   "execution_count": null,
   "metadata": {},
   "outputs": [],
   "source": [
    "def gen_digits(n):\n",
    "    i = 1\n",
    "    while True:\n",
    "        b = n % 10**i # 120 % 100 == 20\n",
    "        yield b\n",
    "        n = n - b*10**(i-1)\n",
    "        if n < 0:\n",
    "            brea\n",
    "        \n",
    "print(list(get_digits(1234567))[::-1])"
   ]
  },
  {
   "cell_type": "code",
   "execution_count": 13,
   "metadata": {},
   "outputs": [
    {
     "data": {
      "text/plain": [
       "20"
      ]
     },
     "execution_count": 13,
     "metadata": {},
     "output_type": "execute_result"
    }
   ],
   "source": [
    "120%100"
   ]
  },
  {
   "cell_type": "code",
   "execution_count": 51,
   "metadata": {},
   "outputs": [
    {
     "name": "stdout",
     "output_type": "stream",
     "text": [
      "0 4\n"
     ]
    }
   ],
   "source": [
    "# 2. Реализовать сложение для входных последовательностей, разных размеров\n",
    "# второй способ \n",
    "import itertools\n",
    "def gen_sum(*iterables):\n",
    "    s = 0\n",
    "    a = 0\n",
    "    for i in itertools.zip_longest(*iterables, fillvalue=0):\n",
    "        s = (sum(i) + a) % 10\n",
    "        a = sum(i) // 10\n",
    "        yield s\n",
    "    if a >= 1:\n",
    "        yield a # исправить\n",
    "print(*gen_sum([1,3],[9]))"
   ]
  },
  {
   "cell_type": "code",
   "execution_count": 20,
   "metadata": {},
   "outputs": [
    {
     "name": "stdout",
     "output_type": "stream",
     "text": [
      "16\n"
     ]
    }
   ],
   "source": [
    "import itertools\n",
    "list(itertools.zip_longest([1,2,3], [1]))\n",
    "i = (1, 2, 3, 4, None, 6)\n",
    "s = 0\n",
    "\n",
    "print(sum((j for j in i if j is not None)))\n"
   ]
  },
  {
   "cell_type": "raw",
   "metadata": {},
   "source": [
    "# 58. Length of Last Word\n",
    "# Given a string s consists of some words separated by spaces, return the length of the last word in the string. \n",
    "# If the last word does not exist, return 0.\n",
    "\n",
    "# A word is a maximal substring consisting of non-space characters only.\n",
    "# Example 1:\n",
    "\n",
    "# Input: s = \"Hello World\"\n",
    "# Output: 5\n",
    "\n",
    "# Example 2:\n",
    "\n",
    "# Input: s = \" \"\n",
    "# Output: 0"
   ]
  },
  {
   "cell_type": "code",
   "execution_count": null,
   "metadata": {},
   "outputs": [],
   "source": []
  },
  {
   "cell_type": "code",
   "execution_count": 31,
   "metadata": {},
   "outputs": [
    {
     "name": "stdout",
     "output_type": "stream",
     "text": [
      "0\n"
     ]
    }
   ],
   "source": [
    "def the_length_of_the_last_word(s):\n",
    "    a = s.split()\n",
    "    if len(a) > 1:\n",
    "        yield len(a[-1])\n",
    "    else:\n",
    "        b = ''.join(a)\n",
    "        yield len(b)\n",
    "print(*the_length_of_the_last_word(' '))"
   ]
  },
  {
   "cell_type": "code",
   "execution_count": null,
   "metadata": {},
   "outputs": [],
   "source": []
  },
  {
   "cell_type": "code",
   "execution_count": null,
   "metadata": {},
   "outputs": [],
   "source": []
  },
  {
   "cell_type": "raw",
   "metadata": {},
   "source": [
    "sum([1,2,3])"
   ]
  },
  {
   "cell_type": "raw",
   "metadata": {},
   "source": []
  },
  {
   "cell_type": "raw",
   "metadata": {},
   "source": []
  },
  {
   "cell_type": "code",
   "execution_count": null,
   "metadata": {},
   "outputs": [],
   "source": []
  }
 ],
 "metadata": {
  "kernelspec": {
   "display_name": "Python 3",
   "language": "python",
   "name": "python3"
  },
  "language_info": {
   "codemirror_mode": {
    "name": "ipython",
    "version": 3
   },
   "file_extension": ".py",
   "mimetype": "text/x-python",
   "name": "python",
   "nbconvert_exporter": "python",
   "pygments_lexer": "ipython3",
   "version": "3.8.6"
  }
 },
 "nbformat": 4,
 "nbformat_minor": 4
}
