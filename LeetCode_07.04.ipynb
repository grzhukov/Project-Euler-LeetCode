{
 "cells": [
  {
   "cell_type": "code",
   "execution_count": 22,
   "metadata": {},
   "outputs": [
    {
     "name": "stdout",
     "output_type": "stream",
     "text": [
      "True\n"
     ]
    }
   ],
   "source": [
    "# 326.\n",
    "import math\n",
    "\n",
    "def pow_of_three(n):\n",
    "    answer = True\n",
    "    if n <= 0: return False\n",
    "    if n == 1: return True\n",
    "    while n != 3:\n",
    "        if n % 3 == 0:\n",
    "            n = n // 3\n",
    "        else:\n",
    "            answer = False\n",
    "            break\n",
    "    return answer\n",
    "        \n",
    "            \n",
    "print(pow_of_three(1))"
   ]
  },
  {
   "cell_type": "code",
   "execution_count": 24,
   "metadata": {},
   "outputs": [],
   "source": [
    "# 1550. Three Consecutive Odds\n",
    "# Given an integer array arr, return true if there are three consecutive odd numbers in the array. \n",
    "# Otherwise, return false.\n",
    " \n",
    "Input: arr = [2,6,4,1]\n",
    "Output: false\n",
    "Explanation: There are no three consecutive odds.\n",
    "    \n",
    "Input: arr = [1,2,34,3,4,5,7,23,12]\n",
    "Output: true\n",
    "Explanation: [5,7,23] are three consecutive odds."
   ]
  },
  {
   "cell_type": "code",
   "execution_count": 29,
   "metadata": {},
   "outputs": [
    {
     "name": "stdout",
     "output_type": "stream",
     "text": [
      "True\n"
     ]
    }
   ],
   "source": [
    "arr = [1,2,34,3,4,5,7,23,12]\n",
    "\n",
    "def three_consecutive_odd(arr):\n",
    "    ans = False\n",
    "    for i in range(len(arr)-2):\n",
    "        if arr[i] % 2 != 0 and arr[i+1] % 2 != 0 and arr[i+2] % 2 != 0:\n",
    "            ans = True\n",
    "    return ans\n",
    "\n",
    "\n",
    "print(three_consecutive_odd(arr))           "
   ]
  },
  {
   "cell_type": "code",
   "execution_count": null,
   "metadata": {},
   "outputs": [],
   "source": [
    "# 628. Maximum Product of Three Numbers\n",
    "# Given an integer array nums, \n",
    "# find three numbers whose product is maximum and return the maximum product.\n",
    "\n",
    "Input: nums = [1,2,3]\n",
    "Output: 6\n",
    "    \n",
    "Input: nums = [1,2,3,4]\n",
    "Output: 24\n",
    "    \n",
    "Input: nums = [-1,-2,-3]\n",
    "Output: -6\n",
    "    \n",
    "[-100,-2,-3,1] --> 300\n",
    "\n",
    "Оптимальнее?"
   ]
  },
  {
   "cell_type": "code",
   "execution_count": 53,
   "metadata": {},
   "outputs": [
    {
     "name": "stdout",
     "output_type": "stream",
     "text": [
      "-6\n"
     ]
    }
   ],
   "source": [
    "nums = [-1,-2,-3]\n",
    "\n",
    "def func(nums):\n",
    "    nums.sort()\n",
    "    \n",
    "    res_1 = 0\n",
    "    \n",
    "    if nums[0] < 0 and nums[1] < 0:\n",
    "        res_1 = nums[0]*nums[1]*max(nums[2:])\n",
    "            \n",
    "    res_2 = nums[-3]*nums[-2]*nums[-1]\n",
    "    \n",
    "    if res_2 > res_1:\n",
    "        return res_2\n",
    "    else:\n",
    "        return res_1\n",
    "        \n",
    "    \n",
    "    \n",
    "\n",
    "print(func(nums))"
   ]
  },
  {
   "cell_type": "code",
   "execution_count": null,
   "metadata": {},
   "outputs": [],
   "source": [
    "# 1013. Partition Array Into Three Parts With Equal Sum\n",
    "# Given an array of integers arr, \n",
    "# return true if we can partition the array into three non-empty parts with equal sums.\n",
    "Input: arr = [0,2,1,-6,6,-7,9,1,2,0,1]\n",
    "Output: true\n",
    "Explanation: 0 + 2 + 1 = -6 + 6 - 7 + 9 + 1 = 2 + 0 + 1\n",
    "    \n",
    "Input: arr = [0,2,1,-6,6,7,9,-1,2,0,1]\n",
    "Output: false\n",
    "    \n",
    "Input: arr = [3,3,6,5,-2,2,5,1,-9,4]\n",
    "Output: true\n",
    "Explanation: 3 + 3 = 6 = 5 - 2 + 2 + 5 + 1 - 9 + 4\n",
    "    \n",
    "Проверить"
   ]
  },
  {
   "cell_type": "code",
   "execution_count": 38,
   "metadata": {},
   "outputs": [
    {
     "name": "stdout",
     "output_type": "stream",
     "text": [
      "[1]\n",
      "[2]\n",
      "[]\n",
      "False\n"
     ]
    }
   ],
   "source": [
    "arr = [1,-1,1,-1]\n",
    "\n",
    "\n",
    "def func(arr):\n",
    "    \n",
    "    Flag = False\n",
    "    \n",
    "    s = sum(arr) // 3\n",
    "    \n",
    "    s_1 = 0\n",
    "    s_2 = 0\n",
    "    A = []\n",
    "    B = []\n",
    "    \n",
    "    for i in range(len(arr)-2):\n",
    "        s_1 += arr[i]\n",
    "        if s_1 == s:\n",
    "            A.append(i)\n",
    "            \n",
    "        \n",
    "    for i in range(len(arr)-1, 1, -1):\n",
    "        s_2 += arr[i]\n",
    "#         print('_', i, arr[i])\n",
    "        if s_2 == s:\n",
    "            B.append(i)\n",
    "            \n",
    "    for i in A:\n",
    "        for j in B:\n",
    "            if i+1 != j and sum(arr[i+1:j]) == s:\n",
    "                Flag = True\n",
    "        \n",
    "    return Flag\n",
    "    \n",
    "print(func(arr))"
   ]
  },
  {
   "cell_type": "code",
   "execution_count": null,
   "metadata": {},
   "outputs": [],
   "source": [
    "1640. Check Array Formation Through Concatenation\n",
    "\n",
    "You are given an array of distinct integers arr and an array of integer arrays pieces,\n",
    "where the integers in pieces are distinct. Your goal is to form arr by concatenating the arrays in pieces in any order. \n",
    "However, you are not allowed to reorder the integers in each array pieces[i].\n",
    "\n",
    "Return true if it is possible to form the array arr from pieces. Otherwise, return false.\n",
    "\n",
    "Не понимаю условие"
   ]
  },
  {
   "cell_type": "code",
   "execution_count": null,
   "metadata": {},
   "outputs": [],
   "source": [
    "1114. Print in Order\n",
    "\n",
    "public class Foo {\n",
    "  public void first() { print(\"first\"); }\n",
    "  public void second() { print(\"second\"); }\n",
    "  public void third() { print(\"third\"); }\n",
    "}\n",
    "\n",
    "\n",
    "The same instance of Foo will be passed to three different threads. \n",
    "Thread A will call first(), \n",
    "thread B will call second(), and \n",
    "thread C will call third(). \n",
    "Design a mechanism and modify the program to ensure that \n",
    "second() is executed after first(), and third() is executed after second().\n"
   ]
  },
  {
   "cell_type": "code",
   "execution_count": null,
   "metadata": {},
   "outputs": [],
   "source": [
    "class Foo:\n",
    "    def __init__(self):\n",
    "        pass\n",
    "\n",
    "\n",
    "    def first(self, printFirst: 'Callable[[], None]') -> None:\n",
    "        \n",
    "        # printFirst() outputs \"first\". Do not change or remove this line.\n",
    "        printFirst()\n",
    "\n",
    "\n",
    "    def second(self, printSecond: 'Callable[[], None]') -> None:\n",
    "        \n",
    "        # printSecond() outputs \"second\". Do not change or remove this line.\n",
    "        printSecond()\n",
    "\n",
    "\n",
    "    def third(self, printThird: 'Callable[[], None]') -> None:\n",
    "        \n",
    "        # printThird() outputs \"third\". Do not change or remove this line.\n",
    "        printThird()"
   ]
  },
  {
   "cell_type": "code",
   "execution_count": 65,
   "metadata": {},
   "outputs": [
    {
     "name": "stdout",
     "output_type": "stream",
     "text": [
      "0 1 2\n"
     ]
    }
   ],
   "source": [
    "# 70. Climbing Stairs\n",
    "# You are climbing a staircase. It takes n steps to reach the top.\n",
    "# Each time you can either climb 1 or 2 steps. \n",
    "# In how many distinct ways can you climb to the top?\n",
    "\n",
    "def func(n):\n",
    "    count = 0\n",
    "    for i in range(n):\n",
    "        for j in range(n//2+1):\n",
    "            if i + 2*j == n:\n",
    "                count += 1\n",
    "                print(i, j, n)\n",
    "    \n",
    "                \n",
    "func(2)"
   ]
  },
  {
   "cell_type": "code",
   "execution_count": 59,
   "metadata": {},
   "outputs": [
    {
     "data": {
      "text/plain": [
       "2"
      ]
     },
     "execution_count": 59,
     "metadata": {},
     "output_type": "execute_result"
    }
   ],
   "source": [
    "5//2"
   ]
  },
  {
   "cell_type": "code",
   "execution_count": null,
   "metadata": {},
   "outputs": [],
   "source": [
    "7. Reverse Integer\n",
    "Input: x = -123\n",
    "Output: -321\n",
    "    \n",
    "Input: x = 120\n",
    "Output: 21\n",
    "    \n",
    "Input: x = 0\n",
    "Output: 0"
   ]
  },
  {
   "cell_type": "code",
   "execution_count": 95,
   "metadata": {},
   "outputs": [
    {
     "name": "stdout",
     "output_type": "stream",
     "text": [
      "False\n"
     ]
    }
   ],
   "source": [
    "def func(n):\n",
    "    if n == 0: return 0\n",
    "    if n < 0:\n",
    "        n = int(str(abs(n))[::-1]) * (-1)\n",
    "    else:\n",
    "        n = int(str(n)[::-1])\n",
    "        \n",
    "    if n not in range(-2**31, 2**31+1): return False\n",
    "    else:\n",
    "        return n\n",
    "    \n",
    "        \n",
    "print(func(1534236469))\n"
   ]
  },
  {
   "cell_type": "code",
   "execution_count": null,
   "metadata": {},
   "outputs": [],
   "source": [
    "3. Longest Substring Without Repeating Characters\n",
    "Given a string s, find the length of the longest substring without repeating characters.\n",
    "\n",
    "Input: s = \"abcabcbb\"\n",
    "Output: 3\n",
    "Explanation: The answer is \"abc\", with the length of 3.\n",
    "    \n",
    "Input: s = \"bbbbb\"\n",
    "Output: 1\n",
    "Explanation: The answer is \"b\", with the length of 1.\n",
    "    \n",
    "Input: s = \"pwwkew\"\n",
    "Output: 3\n",
    "Explanation: The answer is \"wke\", with the length of 3.\n",
    "Notice that the answer must be a substring, \"pwke\" is a subsequence and not a substring.\n",
    "\n",
    "Input: s = \"\"\n",
    "Output: 0\n",
    "    \n",
    "Проверить"
   ]
  },
  {
   "cell_type": "code",
   "execution_count": 23,
   "metadata": {},
   "outputs": [
    {
     "name": "stdout",
     "output_type": "stream",
     "text": [
      "1___ oh 2\n",
      "1___ ohv 3\n",
      "3___ vh 2\n",
      "1___ vhj 3\n",
      "1___ vhjd 4\n",
      "1___ vhjdm 5\n",
      "1___ vhjdml 6\n",
      "6\n"
     ]
    }
   ],
   "source": [
    "s = 'ohvhjdml'\n",
    "\n",
    "def func(s):\n",
    "    \n",
    "    if not s: return 0\n",
    "    if len(s) == 1: return 1\n",
    "        \n",
    "    ff = s[0]\n",
    "    count = 1\n",
    "    A = []\n",
    "    save_1 = 0\n",
    "    save_2 = 0\n",
    "    save_3 = 0\n",
    "    \n",
    "    for i in range(1, len(s)):\n",
    "        if s[i] not in ff:\n",
    "            ff += s[i]\n",
    "            count = len(ff)\n",
    "            save_1 = count\n",
    "            print('1___', ff, count)\n",
    "        elif  ff[0] == s[i]:\n",
    "            count = 1\n",
    "            ff = ff[1:]\n",
    "            ff += s[i]\n",
    "            count = len(ff)\n",
    "            save_2 = count\n",
    "            print('2___', ff, count)\n",
    "            \n",
    "        else:\n",
    "            ind = ff.find(s[i])\n",
    "            ff = ff[ind+1:]\n",
    "            ff += s[i]\n",
    "            count = 1     \n",
    "            count = len(ff)\n",
    "            save_3 = count\n",
    "            print('3___', ff, count)\n",
    "            \n",
    "        A.append(save_1)\n",
    "        A.append(save_2)\n",
    "        A.append(save_3)\n",
    "        \n",
    "    return max(A)\n",
    "\n",
    "print(func(s)) "
   ]
  },
  {
   "cell_type": "code",
   "execution_count": null,
   "metadata": {},
   "outputs": [],
   "source": [
    "# 15. 3Sum\n",
    "\n",
    "# Given an integer array nums, \n",
    "# return all the triplets [nums[i], nums[j], nums[k]] such that\n",
    "# i != j, i != k, and j != k, and nums[i] + nums[j] + nums[k] == 0.\n",
    "\n",
    "Notice that the solution set must not contain duplicate triplets.\n",
    "\n",
    "Input: nums = [-1,0,1,2,-1,-4]\n",
    "Output: [[-1,-1,2],[-1,0,1]]\n",
    "    \n",
    "Input: nums = []\n",
    "Output: []\n",
    "    \n",
    "Input: nums = [0]\n",
    "Output: []"
   ]
  },
  {
   "cell_type": "code",
   "execution_count": 16,
   "metadata": {},
   "outputs": [
    {
     "name": "stdout",
     "output_type": "stream",
     "text": [
      "[[-1, 0, 1], [-1, -1, 2]]\n"
     ]
    }
   ],
   "source": [
    "nums = [-1,0,1,2,-1,-4]\n",
    "\n",
    "def func(nums):\n",
    "    A = []\n",
    "    for i in range(len(nums)):\n",
    "        a = nums[i]\n",
    "        for j in range(len(nums)):\n",
    "            b = nums[j]  \n",
    "            if -(a+b) in nums and i != j and j != nums.index(-(a+b)) and i != nums.index(-(a+b)):\n",
    "                x = [a, b, -(a+b)]\n",
    "                x.sort()\n",
    "                if x not in A:\n",
    "                    A.append(x)\n",
    "                \n",
    "                \n",
    "               \n",
    "                \n",
    "                \n",
    "    \n",
    "    return A\n",
    "            \n",
    "            \n",
    "                \n",
    "                \n",
    "                \n",
    "print(func(nums))    "
   ]
  },
  {
   "cell_type": "code",
   "execution_count": null,
   "metadata": {},
   "outputs": [],
   "source": [
    "nums = [-1,0,1,2,-1,-4]\n",
    "def func_15(nums):\n",
    "    i = 0\n",
    "    j = 0\n",
    "    while i < len(nums) and j < len(nums):\n",
    "        if nu"
   ]
  },
  {
   "cell_type": "code",
   "execution_count": null,
   "metadata": {},
   "outputs": [],
   "source": [
    "35. Search Insert Position\n",
    "Given a sorted array of distinct integers and a target value, return the index if the target is found.\n",
    "If not, return the index where it would be if it were inserted in order.\n",
    "Input: nums = [1,3,5,6], target = 5\n",
    "Output: 2\n",
    "\n",
    "Input: nums = [1,3,5,6], target = 2\n",
    "Output: 1"
   ]
  },
  {
   "cell_type": "code",
   "execution_count": 14,
   "metadata": {},
   "outputs": [
    {
     "name": "stdout",
     "output_type": "stream",
     "text": [
      "0\n"
     ]
    }
   ],
   "source": [
    "nums = [3,2,2,3]\n",
    "def func_35(nums, target):\n",
    "    if nums[0] >= target: return 0\n",
    "    if nums[-1] <= target: return len(nums)\n",
    "    for i in range(len(nums)-1):\n",
    "        if nums[i] <= target and nums[i+1] >= target:\n",
    "            return i+1\n",
    "        \n",
    "    \n",
    "print(func_35(nums, 3))\n",
    "    "
   ]
  },
  {
   "cell_type": "code",
   "execution_count": 24,
   "metadata": {},
   "outputs": [
    {
     "name": "stdout",
     "output_type": "stream",
     "text": [
      "None\n"
     ]
    }
   ],
   "source": []
  },
  {
   "cell_type": "code",
   "execution_count": 59,
   "metadata": {},
   "outputs": [
    {
     "name": "stdout",
     "output_type": "stream",
     "text": [
      "[[0, 0, 0], [0, 0, 0]]\n"
     ]
    }
   ],
   "source": [
    "# 29.04.21.\n",
    "# 15. 3Sum\n",
    "# Given an integer array nums, return all the triplets \n",
    "# [nums[i], nums[j], nums[k]] such that i != j, i != k, and j != k, and \n",
    "# nums[i] + nums[j] + nums[k] == 0.\n",
    "# Input: nums = [-1,0,1,2,-1,-4]\n",
    "# Output: [[-1,-1,2],[-1,0,1]]\n",
    "\n",
    "# nums = [-1,0,1,2,-1,-4]\n",
    "nums = [0, 0, 0, 0]\n",
    "\n",
    "def two_sum(nums, target):\n",
    "    A = []\n",
    "    for i in range(len(nums)):\n",
    "        if target - nums[i]  in nums[i+1:]:\n",
    "            A.append([-target, nums[i], target - nums[i]])\n",
    "    return A\n",
    "    \n",
    "                      \n",
    "def three_sum(nums):\n",
    "    for i in range(len(nums)):\n",
    "        \n",
    "        return two_sum(nums[i+1:], -nums[i])\n",
    "        \n",
    "        \n",
    "        \n",
    "        \n",
    "print(three_sum(nums))"
   ]
  },
  {
   "cell_type": "code",
   "execution_count": 24,
   "metadata": {},
   "outputs": [
    {
     "data": {
      "text/plain": [
       "0.016666666666666666"
      ]
     },
     "execution_count": 24,
     "metadata": {},
     "output_type": "execute_result"
    }
   ],
   "source": [
    "12/720"
   ]
  },
  {
   "cell_type": "code",
   "execution_count": 4,
   "metadata": {},
   "outputs": [
    {
     "data": {
      "text/plain": [
       "0.24380572702331962"
      ]
     },
     "execution_count": 4,
     "metadata": {},
     "output_type": "execute_result"
    }
   ],
   "source": [
    "(125*91)/(216**2)"
   ]
  },
  {
   "cell_type": "code",
   "execution_count": 2,
   "metadata": {},
   "outputs": [
    {
     "data": {
      "text/plain": [
       "0.758"
      ]
     },
     "execution_count": 2,
     "metadata": {},
     "output_type": "execute_result"
    }
   ],
   "source": [
    "1.516 / 2"
   ]
  },
  {
   "cell_type": "code",
   "execution_count": null,
   "metadata": {},
   "outputs": [],
   "source": [
    "## 1- 91/216"
   ]
  },
  {
   "cell_type": "code",
   "execution_count": 4,
   "metadata": {},
   "outputs": [
    {
     "data": {
      "text/plain": [
       "0.75805"
      ]
     },
     "execution_count": 4,
     "metadata": {},
     "output_type": "execute_result"
    }
   ],
   "source": [
    "1-0.4839/2"
   ]
  },
  {
   "cell_type": "code",
   "execution_count": 6,
   "metadata": {},
   "outputs": [
    {
     "data": {
      "text/plain": [
       "0.03200000000000003"
      ]
     },
     "execution_count": 6,
     "metadata": {},
     "output_type": "execute_result"
    }
   ],
   "source": [
    "0.2580*2*2-1"
   ]
  },
  {
   "cell_type": "code",
   "execution_count": null,
   "metadata": {},
   "outputs": [],
   "source": []
  }
 ],
 "metadata": {
  "kernelspec": {
   "display_name": "Python 3",
   "language": "python",
   "name": "python3"
  },
  "language_info": {
   "codemirror_mode": {
    "name": "ipython",
    "version": 3
   },
   "file_extension": ".py",
   "mimetype": "text/x-python",
   "name": "python",
   "nbconvert_exporter": "python",
   "pygments_lexer": "ipython3",
   "version": "3.8.6"
  }
 },
 "nbformat": 4,
 "nbformat_minor": 4
}
